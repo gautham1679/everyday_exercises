{
  "nbformat": 4,
  "nbformat_minor": 0,
  "metadata": {
    "colab": {
      "provenance": []
    },
    "kernelspec": {
      "name": "python3",
      "display_name": "Python 3"
    },
    "language_info": {
      "name": "python"
    }
  },
  "cells": [
    {
      "cell_type": "markdown",
      "source": [
        "Area calculator"
      ],
      "metadata": {
        "id": "IN_DIwl_JcB1"
      }
    },
    {
      "cell_type": "code",
      "source": [
        "def Calculate_area(shape,dimensions):\n",
        "  if shape==\"rectangle\":\n",
        "    l,b=dimensions\n",
        "    print(\"area \",l*b)\n",
        "  elif shape==\"circle\":\n",
        "    r=dimensions\n",
        "    print(\"area \",3.14*r**2)\n",
        "  elif shape==\"square\":\n",
        "    s=dimensions\n",
        "    print(\"area\",s*s)\n",
        "\n",
        "\n",
        "Calculate_area(\"circle\",10)\n",
        "Calculate_area(\"rectangle\",(2,5))\n",
        "Calculate_area(\"square\",(5))"
      ],
      "metadata": {
        "colab": {
          "base_uri": "https://localhost:8080/"
        },
        "id": "fIs0uy8XJbiu",
        "outputId": "47288049-4a4a-41b2-f4e5-c4024949f202"
      },
      "execution_count": 7,
      "outputs": [
        {
          "output_type": "stream",
          "name": "stdout",
          "text": [
            "area  314.0\n",
            "area  10\n",
            "area 25\n"
          ]
        }
      ]
    },
    {
      "cell_type": "markdown",
      "source": [
        "String Manipulation\n",
        "\n",
        "\n"
      ],
      "metadata": {
        "id": "10s8oCbVNpFw"
      }
    },
    {
      "cell_type": "code",
      "source": [
        "def reverse_words(text):\n",
        "    w = text.split()\n",
        "    rev = w[::-1]\n",
        "    new_text = ' '.join(rev)\n",
        "    print(new_text)\n",
        "\n",
        "\n",
        "reverse_words(\"Hello world! This is a test.\")\n"
      ],
      "metadata": {
        "colab": {
          "base_uri": "https://localhost:8080/"
        },
        "id": "lIjhJWOuNuUZ",
        "outputId": "294772bd-a53a-4313-dfed-e16cd59e435e"
      },
      "execution_count": 8,
      "outputs": [
        {
          "output_type": "stream",
          "name": "stdout",
          "text": [
            "test. a is This world! Hello\n"
          ]
        }
      ]
    },
    {
      "cell_type": "markdown",
      "source": [
        "List Statistics\n"
      ],
      "metadata": {
        "id": "UpvRb1zIPy0U"
      }
    },
    {
      "cell_type": "code",
      "source": [
        "def analyze_list(numbers):\n",
        "    min_value = min(numbers)\n",
        "    max_value = max(numbers)\n",
        "    avg_value = sum(numbers) / len(numbers)\n",
        "    print({'minimum': min_value, 'maximum': max_value, 'average': avg_value})\n",
        "\n",
        "analyze_list([20000, 580808, 824802, 14284, 32490])\n"
      ],
      "metadata": {
        "colab": {
          "base_uri": "https://localhost:8080/"
        },
        "id": "m4nONYlsP22Q",
        "outputId": "166cf926-ea3f-4c7f-fe69-12d49de1a18e"
      },
      "execution_count": 18,
      "outputs": [
        {
          "output_type": "stream",
          "name": "stdout",
          "text": [
            "{'minimum': 14284, 'maximum': 824802, 'average': 294476.8}\n"
          ]
        }
      ]
    },
    {
      "cell_type": "markdown",
      "source": [
        "Filtering with Lambda"
      ],
      "metadata": {
        "id": "t3C-jSsvQ_Jr"
      }
    },
    {
      "cell_type": "code",
      "source": [
        "def filter_short_names(names, max_length):\n",
        "    filter_names = list(filter(lambda x: len(x) < max_length, names))\n",
        "    print(filter_names)\n",
        "\n",
        "\n",
        "filter_short_names([\"Apple\", \"Banana\", \"Orange\", \"Grapes\", \"Pineapple\"],7)\n"
      ],
      "metadata": {
        "colab": {
          "base_uri": "https://localhost:8080/"
        },
        "id": "MdO-83IiREAT",
        "outputId": "53c272fb-9ec9-4e66-e41e-feb7a1f39979"
      },
      "execution_count": 16,
      "outputs": [
        {
          "output_type": "stream",
          "name": "stdout",
          "text": [
            "['Apple', 'Banana', 'Orange', 'Grapes']\n"
          ]
        }
      ]
    },
    {
      "cell_type": "markdown",
      "source": [
        " Text Analyzer"
      ],
      "metadata": {
        "id": "7sDBs7XLSI2-"
      }
    },
    {
      "cell_type": "code",
      "source": [
        "def analyze_text(text):\n",
        "    words = text.split()\n",
        "    num_words = len(words)\n",
        "    num_characters = len(text.replace(\" \", \"\"))\n",
        "    word_counts = {}\n",
        "    for word in words:\n",
        "        word_counts[word] = word_counts.get(word, 0) + 1\n",
        "    most_frequent_word = max(word_counts, key=word_counts.get)\n",
        "    result = {\n",
        "        'num_words': num_words,\n",
        "        'num_characters': num_characters,\n",
        "        'most_frequent_word': most_frequent_word\n",
        "    }\n",
        "\n",
        "    print(result)\n",
        "\n",
        "\n",
        "analyze_text(\"Hi i am gautham and i am studying in punjab\")\n",
        "\n"
      ],
      "metadata": {
        "colab": {
          "base_uri": "https://localhost:8080/"
        },
        "id": "qWCvvmPOSPCb",
        "outputId": "cb5e2f6c-67d2-4f13-eb91-0ec928f3161c"
      },
      "execution_count": 21,
      "outputs": [
        {
          "output_type": "stream",
          "name": "stdout",
          "text": [
            "{'num_words': 10, 'num_characters': 34, 'most_frequent_word': 'i'}\n"
          ]
        }
      ]
    }
  ]
}